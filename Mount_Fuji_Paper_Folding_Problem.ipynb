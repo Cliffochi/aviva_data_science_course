{
  "nbformat": 4,
  "nbformat_minor": 0,
  "metadata": {
    "colab": {
      "provenance": [],
      "authorship_tag": "ABX9TyO59EVf0Un+dZ3xNxwnRBTO",
      "include_colab_link": true
    },
    "kernelspec": {
      "name": "python3",
      "display_name": "Python 3"
    },
    "language_info": {
      "name": "python"
    }
  },
  "cells": [
    {
      "cell_type": "markdown",
      "metadata": {
        "id": "view-in-github",
        "colab_type": "text"
      },
      "source": [
        "<a href=\"https://colab.research.google.com/github/Cliffochi/aviva_data_science_course/blob/main/Mount_Fuji_Paper_Folding_Problem.ipynb\" target=\"_parent\"><img src=\"https://colab.research.google.com/assets/colab-badge.svg\" alt=\"Open In Colab\"/></a>"
      ]
    },
    {
      "cell_type": "code",
      "execution_count": null,
      "metadata": {
        "colab": {
          "base_uri": "https://localhost:8080/"
        },
        "id": "CFwF0qIJb-KM",
        "outputId": "ed302fe8-0988-47c3-fed5-1d1b9e59410d"
      },
      "outputs": [
        {
          "output_type": "stream",
          "name": "stdout",
          "text": [
            "Number of folds to reach the height of Mt. Fuji: 23\n"
          ]
        }
      ],
      "source": [
        "# q1. No. of times it takes to fold a piece of 0.00008m thick piece of paper to the height of Mt.Fuji - 3776m\n",
        "# initial paper thickness\n",
        "thickness = 0.0008\n",
        "\n",
        "# target height Mt. Fuji\n",
        "target_height = 3776\n",
        "\n",
        "# initialize fold count\n",
        "fold_count = 0\n",
        "\n",
        "# using a while loop\n",
        "while thickness < target_height:\n",
        "  thickness *= 2\n",
        "  fold_count += 1\n",
        "\n",
        "# display output\n",
        "print(\"Number of folds to reach the height of Mt. Fuji:\", fold_count)"
      ]
    },
    {
      "cell_type": "code",
      "source": [
        "# q2 Function corresponding to any thickness\n",
        "def folds_to_reach_height(target_height, initial_paper_thickness = 0.0008):\n",
        "  folds = 0\n",
        "  paper_thickness = initial_paper_thickness\n",
        "\n",
        "  while paper_thickness < target_height:\n",
        "    paper_thickness *= 2\n",
        "    folds += 1\n",
        "\n",
        "  return folds"
      ],
      "metadata": {
        "id": "GPM-JwidgB_k"
      },
      "execution_count": null,
      "outputs": []
    },
    {
      "cell_type": "code",
      "source": [
        "# Test case: Folds to Proxima Centauri - apprx $4.0175 \\times 10^{16}$m away from Earth.\n",
        "print(folds_to_reach_height(4.0175e16, 0.0008))"
      ],
      "metadata": {
        "colab": {
          "base_uri": "https://localhost:8080/"
        },
        "id": "TjFa6Vypj5FH",
        "outputId": "f9b620b0-4f6e-4bf1-eed6-3b93e9a9a4c2"
      },
      "execution_count": null,
      "outputs": [
        {
          "output_type": "stream",
          "name": "stdout",
          "text": [
            "66\n"
          ]
        }
      ]
    },
    {
      "cell_type": "code",
      "source": [
        "# Q3 Required length of paper\n",
        "import math\n",
        "def realistic_folds_to_reach_height(target_height, t0 = 0.0008):\n",
        "  n = 0\n",
        "  current_thickness = t0\n",
        "\n",
        "  while current_thickness < target_height:\n",
        "    # calculate length required to fold n+1 times i.e. just enough to exceed the target height\n",
        "    length_required = (math.pi * t0 / 6) * ((2**(n+1) + 4) * (2**(n+1) - 1))\n",
        "\n",
        "    current_thickness = t0 * (2 ** (n+1))\n",
        "    n += 1\n",
        "\n",
        "  return n, length_required"
      ],
      "metadata": {
        "id": "9jmgAHxnkC-l"
      },
      "execution_count": 26,
      "outputs": []
    },
    {
      "cell_type": "code",
      "source": [
        "# Test case 1: Mt. Fuji - 3776m\n",
        "folds, final_thickness, = realistic_folds_to_reach_height(3776, 0.0008)\n",
        "print(\"Number of folds:\", folds)\n",
        "print(f\"Length of paper required:{final_thickness:.2f}m\")"
      ],
      "metadata": {
        "colab": {
          "base_uri": "https://localhost:8080/"
        },
        "id": "XpivlWYqoetY",
        "outputId": "bf986dea-8787-44cb-ee1d-6ab7566fb167"
      },
      "execution_count": null,
      "outputs": [
        {
          "output_type": "stream",
          "name": "stdout",
          "text": [
            "Number of folds: 23\n",
            "Length of paper required:29476001174.89m\n"
          ]
        }
      ]
    },
    {
      "cell_type": "code",
      "source": [
        "# Test case 2: Moon - 384400m\n",
        "folds, final_thickness, = realistic_folds_to_reach_height(384400, 0.0008)\n",
        "print(\"Number of folds:\", folds)\n",
        "print(f\"Length of paper required:{final_thickness:.2f}m\")"
      ],
      "metadata": {
        "colab": {
          "base_uri": "https://localhost:8080/"
        },
        "id": "I2a7JqOYrF_D",
        "outputId": "f59ece55-94f8-4193-e216-6c4a31cba149"
      },
      "execution_count": null,
      "outputs": [
        {
          "output_type": "stream",
          "name": "stdout",
          "text": [
            "Number of folds: 29\n",
            "Length of paper required:120733658309270.59m\n"
          ]
        }
      ]
    },
    {
      "cell_type": "code",
      "source": [
        "# Test case 3: Star - Alpha Centauri 4.132e10 m\n",
        "folds, final_thickness, = realistic_folds_to_reach_height(4.132e10, 0.0008)\n",
        "print(\"Number of folds:\", folds)\n",
        "print(f\"Length of paper required:{final_thickness:.2f}m\")\n"
      ],
      "metadata": {
        "colab": {
          "base_uri": "https://localhost:8080/"
        },
        "id": "St5WZUpKtBtz",
        "outputId": "337225f9-a219-43ed-926f-b5730e0cc96b"
      },
      "execution_count": null,
      "outputs": [
        {
          "output_type": "stream",
          "name": "stdout",
          "text": [
            "Number of folds: 46\n",
            "Length of paper required:2074188444268680504672256.00m\n"
          ]
        }
      ]
    },
    {
      "cell_type": "code",
      "source": [],
      "metadata": {
        "id": "kCD4qO7_vjKW"
      },
      "execution_count": null,
      "outputs": []
    }
  ]
}