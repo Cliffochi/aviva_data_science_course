{
  "nbformat": 4,
  "nbformat_minor": 0,
  "metadata": {
    "colab": {
      "provenance": [],
      "authorship_tag": "ABX9TyM7l+3FZfGTVwuvQ5mxpFhT",
      "include_colab_link": true
    },
    "kernelspec": {
      "name": "python3",
      "display_name": "Python 3"
    },
    "language_info": {
      "name": "python"
    }
  },
  "cells": [
    {
      "cell_type": "markdown",
      "metadata": {
        "id": "view-in-github",
        "colab_type": "text"
      },
      "source": [
        "<a href=\"https://colab.research.google.com/github/Cliffochi/aviva_data_science_course/blob/main/implementing_matrix_multiplication.ipynb\" target=\"_parent\"><img src=\"https://colab.research.google.com/assets/colab-badge.svg\" alt=\"Open In Colab\"/></a>"
      ]
    },
    {
      "cell_type": "markdown",
      "source": [
        "Q1. Calculating matrix multiplication by hand\n",
        "\n",
        "Matrix Multiplication of A and B\n",
        "\n",
        "Given Matrices:\n",
        "\n",
        "Matrix A:\n",
        "\n",
        "[[-1, 2, 3],\n",
        "\n",
        " [4, -5, 6],\n",
        "\n",
        " [7, 8, -9]]\n",
        "\n",
        "Matrix B:\n",
        "\n",
        "[[0, 2, 1],\n",
        "\n",
        " [0, 2, -8],\n",
        "\n",
        " [2, 9, -1]]\n",
        "\n",
        "Step-by-Step Calculation:\n",
        "\n",
        "Row 1 of A × Columns of B:\n",
        "\n",
        "C11 = (-1)(0) + (2)(0) + (3)(2) = 6\n",
        "\n",
        "C12 = (-1)(2) + (2)(2) + (3)(9) = 29\n",
        "\n",
        "C13 = (-1)(1) + (2)(-8) + (3)(-1) = -20\n",
        "\n",
        "Row 2 of A × Columns of B:\n",
        "\n",
        "C21 = (4)(0) + (-5)(0) + (6)(2) = 12\n",
        "\n",
        "C22 = (4)(2) + (-5)(2) + (6)(9) = 52\n",
        "\n",
        "C23 = (4)(1) + (-5)(-8) + (6)(-1) = 38\n",
        "\n",
        "Row 3 of A × Columns of B:\n",
        "\n",
        "C31 = (7)(0) + (8)(0) + (-9)(2) = -18\n",
        "\n",
        "C32 = (7)(2) + (8)(2) + (-9)(9) = -51\n",
        "\n",
        "C33 = (7)(1) + (8)(-8) + (-9)(-1) = -48\n",
        "\n",
        "Final Result of AB:\n",
        "\n",
        "[[6, 29, -20],\n",
        "\n",
        " [12, 52, 38],\n",
        "\n",
        " [-18, -51, -48]]"
      ],
      "metadata": {
        "id": "WWmF6Z9NU0JM"
      }
    },
    {
      "cell_type": "code",
      "source": [
        "# [Question 2] Calculation using NumPy functions\n",
        "import numpy as np\n",
        "A = np.array([[-1, 2, 3], [4, -5, 6], [7, 8, -9]])\n",
        "B = np.array([[0, 2, 1], [0, 2, -8], [2, 9, -1]])\n",
        "\n",
        "# using np.matmul\n",
        "C0 = np.matmul(A, B)\n",
        "print(\"Using np.matmul: \\n\", C0)\n",
        "\n",
        "# using np.dot()\n",
        "C1 = np.dot(A, B)\n",
        "print(\"\\nUsing @ np.dot: \\n\", C1, )\n",
        "\n",
        "# using @ operator\n",
        "C2 = A @ B\n",
        "print(\"\\nUsing @ operator: \\n\", C2)\n"
      ],
      "metadata": {
        "colab": {
          "base_uri": "https://localhost:8080/"
        },
        "id": "mTfCVZuUW0I-",
        "outputId": "91758616-9490-488f-a217-27e2acd86c01"
      },
      "execution_count": 15,
      "outputs": [
        {
          "output_type": "stream",
          "name": "stdout",
          "text": [
            "Using np.matmul: \n",
            " [[  6  29 -20]\n",
            " [ 12  52  38]\n",
            " [-18 -51 -48]]\n",
            "\n",
            "Using @ np.dot: \n",
            " [[  6  29 -20]\n",
            " [ 12  52  38]\n",
            " [-18 -51 -48]]\n",
            "\n",
            "Using @ operator: \n",
            " [[  6  29 -20]\n",
            " [ 12  52  38]\n",
            " [-18 -51 -48]]\n"
          ]
        }
      ]
    },
    {
      "cell_type": "code",
      "source": [
        "# [Problem 3] Implementing calculations for a certain element\n",
        "import numpy as np\n",
        "\n",
        "# Define matrices\n",
        "A = np.array([[-1, 2, 3], [4, -5, 6], [7, 8, -9]])\n",
        "B = np.array([[0, 2, 1], [0, 2, -8], [2, 9, -1]])\n",
        "\n",
        "# Initialize result matrix\n",
        "C_manual = np.zeros((3,3), dtype=int)\n",
        "\n",
        "# Calculate the matrix multiplication manually\n",
        "for i in range(3): # for every row in A\n",
        "  for j in range(3): # for every row in B\n",
        "  # dot product manually computed\n",
        "    C_manual[i, j] = sum(A[i, k] * B[k, j] for k in range(3))\n",
        "\n",
        "print(\"Manually calculated matrix: \\n\", C_manual)"
      ],
      "metadata": {
        "colab": {
          "base_uri": "https://localhost:8080/"
        },
        "id": "i4NGvm4Wg0xU",
        "outputId": "8d31d88a-35bc-43f6-fb40-3905f1365a43"
      },
      "execution_count": 17,
      "outputs": [
        {
          "output_type": "stream",
          "name": "stdout",
          "text": [
            "Manually calculated matrix: \n",
            " [[  6  29 -20]\n",
            " [ 12  52  38]\n",
            " [-18 -51 -48]]\n"
          ]
        }
      ]
    },
    {
      "cell_type": "code",
      "source": [
        "# [Problem 4] Creating a function to perform matrix multiplication\n",
        "import numpy as np\n",
        "\n",
        "def matrix_multiplier(A, B):\n",
        "  \"\"\"\n",
        "  Computes matrix product of 2 matrices\n",
        "  takes 2 arguments : A and B matrices\n",
        "  returns the product of the matrices\n",
        "  \"\"\"\n",
        "  # get dimensions of the matrices\n",
        "  n, m = A.shape\n",
        "  x, y = B.shape\n",
        "  # check if matrices can be multiplied\n",
        "  if m != x:\n",
        "    raise ValueError(\"incompatible\")\n",
        "\n",
        "  # intialise result matrix\n",
        "  C = np.zeros((n, y), dtype=A.dtype)\n",
        "\n",
        "  # computing for each element C[i, j]\n",
        "  for i in range(n):\n",
        "    for j in range(y):\n",
        "      # sum\n",
        "      C[i, j] = sum(A[i, k] * B[k, j] for k in range(m))\n",
        "\n",
        "  return C\n",
        "\n",
        "# Compute product\n",
        "C = matrix_multiplier(A, B)\n",
        "print(\"\\n Matrix Multiplier\", C)"
      ],
      "metadata": {
        "colab": {
          "base_uri": "https://localhost:8080/"
        },
        "id": "gQA-UDaEmvOW",
        "outputId": "612a4b82-eeac-4554-cbd3-3c0f6b18aa47"
      },
      "execution_count": 21,
      "outputs": [
        {
          "output_type": "stream",
          "name": "stdout",
          "text": [
            "\n",
            " Matrix Multiplier [[  6  29 -20]\n",
            " [ 12  52  38]\n",
            " [-18 -51 -48]]\n"
          ]
        }
      ]
    },
    {
      "cell_type": "code",
      "source": [
        "import numpy as np\n",
        "\n",
        "def matrix_multiply(A, B, use_transpose=False):\n",
        "    \"\"\"\n",
        "    Computes matrix product of A and B with input validation.\n",
        "    Optionally uses transpose for computation.\n",
        "\n",
        "    Args:\n",
        "        A (np.ndarray): First matrix (n x m)\n",
        "        B (np.ndarray): Second matrix (m x p)\n",
        "        use_transpose (bool): If True, uses transpose method\n",
        "\n",
        "    Returns:\n",
        "        np.ndarray: Resulting matrix (n x p)\n",
        "    \"\"\"\n",
        "    # Input validation\n",
        "    if not (isinstance(A, np.ndarray) and isinstance(B, np.ndarray)):\n",
        "        raise ValueError(\"Both inputs must be NumPy arrays\")\n",
        "\n",
        "    if A.ndim != 2 or B.ndim != 2:\n",
        "        raise ValueError(\"Inputs must be 2D matrices\")\n",
        "\n",
        "    n, m = A.shape\n",
        "    m2, p = B.shape\n",
        "\n",
        "    if m != m2:\n",
        "        raise ValueError(f\"Incompatible dimensions: A columns ({m}) != B rows ({m2})\")\n",
        "\n",
        "    # Calculation method selection\n",
        "    if use_transpose:\n",
        "        # Method using transpose (Problem 6)\n",
        "        B_T = B.T\n",
        "        C = np.zeros((n, p), dtype=A.dtype)\n",
        "        for i in range(n):\n",
        "            for j in range(p):\n",
        "                C[i,j] = sum(A[i,k] * B_T[j,k] for k in range(m))\n",
        "    else:\n",
        "        # Standard method (Problem 4)\n",
        "        C = np.zeros((n, p), dtype=A.dtype)\n",
        "        for i in range(n):\n",
        "            for j in range(p):\n",
        "                C[i,j] = sum(A[i,k] * B[k,j] for k in range(m))\n",
        "\n",
        "    return C\n",
        "\n",
        "# Test cases\n",
        "D = np.array([[1, 2], [3, 4]])  # 2x2\n",
        "E = np.array([[1, 2, 3]])        # 1x3 (incompatible)\n",
        "\n",
        "try:\n",
        "    print(matrix_multiply(D, E))\n",
        "except ValueError as e:\n",
        "    print(f\"Error: {e}\")\n",
        "\n",
        "# Working example with transpose (Problem 6)\n",
        "A = np.array([[1, 2, 3], [4, -5, 6], [7, 8, -9]])\n",
        "B = np.array([[0, 2, 1], [0, 2, -8], [2, 9, -1]])\n",
        "\n",
        "print(\"\\nStandard multiplication:\")\n",
        "print(matrix_multiply(A, B))\n",
        "\n",
        "print(\"\\nTranspose multiplication:\")\n",
        "print(matrix_multiply(A, B, use_transpose=True))"
      ],
      "metadata": {
        "colab": {
          "base_uri": "https://localhost:8080/"
        },
        "id": "znXV3crurjQZ",
        "outputId": "734148f5-6f05-40dd-8d2b-c5e321724e65"
      },
      "execution_count": 22,
      "outputs": [
        {
          "output_type": "stream",
          "name": "stdout",
          "text": [
            "Error: Incompatible dimensions: A columns (2) != B rows (1)\n",
            "\n",
            "Standard multiplication:\n",
            "[[  6  33 -18]\n",
            " [ 12  52  38]\n",
            " [-18 -51 -48]]\n",
            "\n",
            "Transpose multiplication:\n",
            "[[  6  33 -18]\n",
            " [ 12  52  38]\n",
            " [-18 -51 -48]]\n"
          ]
        }
      ]
    },
    {
      "cell_type": "code",
      "source": [],
      "metadata": {
        "id": "bGFeXqpUsruq"
      },
      "execution_count": null,
      "outputs": []
    }
  ]
}