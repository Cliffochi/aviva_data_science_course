{
  "nbformat": 4,
  "nbformat_minor": 0,
  "metadata": {
    "colab": {
      "provenance": [],
      "authorship_tag": "ABX9TyPoei2iMCq4gR1a1mAmQz2y",
      "include_colab_link": true
    },
    "kernelspec": {
      "name": "python3",
      "display_name": "Python 3"
    },
    "language_info": {
      "name": "python"
    }
  },
  "cells": [
    {
      "cell_type": "markdown",
      "metadata": {
        "id": "view-in-github",
        "colab_type": "text"
      },
      "source": [
        "<a href=\"https://colab.research.google.com/github/Cliffochi/aviva_data_science_course/blob/main/wheat_and_chessboard_problem.ipynb\" target=\"_parent\"><img src=\"https://colab.research.google.com/assets/colab-badge.svg\" alt=\"Open In Colab\"/></a>"
      ]
    },
    {
      "cell_type": "code",
      "execution_count": 8,
      "metadata": {
        "colab": {
          "base_uri": "https://localhost:8080/"
        },
        "id": "4helpsY5aq43",
        "outputId": "2d9dbbe2-8d26-4c79-cb9d-df3699393f45"
      },
      "outputs": [
        {
          "output_type": "stream",
          "name": "stdout",
          "text": [
            "Total grains on chessboard: 18446744073709551615\n"
          ]
        }
      ],
      "source": [
        "# Q1. Wheat and the Chessboard Problem\n",
        "import numpy as np\n",
        "import matplotlib.pyplot as plt\n",
        "\n",
        "# creating and array of the squares on the board\n",
        "squares = np.arange(64, dtype=object) # this avoids overflow since we expect a large figure output\n",
        "# computing the grains per square using log to base 2 since the number is doubling per square\n",
        "grains_per_square = 2 ** squares\n",
        "# total no. of grains i.e. sum of everything\n",
        "total_grains = grains_per_square.sum()\n",
        "\n",
        "# display the total value\n",
        "print(f\"Total grains on chessboard: {total_grains}\")"
      ]
    },
    {
      "cell_type": "code",
      "source": [
        "# Q2. Think in small blocks\n",
        "# no need to import numpy again\n",
        "# creating a 1D list\n",
        "n_squares = 4\n",
        "small_board_list = [1]\n",
        "for _ in range(n_squares - 1):\n",
        "  small_board_list.append(small_board_list[-1] * 2)\n",
        "\n",
        "# converting to ndarry and reshape\n",
        "small_board_list_ndarry = np.array(small_board_list).reshape(2,2)\n",
        "print(\"2x2 chessboard:\\n\", small_board_list_ndarry)"
      ],
      "metadata": {
        "colab": {
          "base_uri": "https://localhost:8080/"
        },
        "id": "-yUBne_9ixLc",
        "outputId": "e29d43e1-154e-440a-caad-eeaeb5b8cae4"
      },
      "execution_count": 11,
      "outputs": [
        {
          "output_type": "stream",
          "name": "stdout",
          "text": [
            "2x2 chessboard:\n",
            " [[1 2]\n",
            " [4 8]]\n"
          ]
        }
      ]
    },
    {
      "cell_type": "code",
      "source": [
        "#Q3.1 8x8 chessboard: A function that returns an ndarray containing the number of grains on an nxm chessboard\n",
        "def wheat_chessboard(n, m):\n",
        "  total_squares = n * m\n",
        "  grains = [1] # starting with one grain\n",
        "  for _ in range(1, total_squares):\n",
        "    grains.append(grains[-1] * 2) #doubles no. of grains\n",
        "\n",
        "  chessboard = np.array(grains, dtype=np.uint64).reshape(n,m)\n",
        "  total = chessboard.sum()\n",
        "\n",
        "  return chessboard, total\n"
      ],
      "metadata": {
        "id": "yMjrz_r5jYMo"
      },
      "execution_count": 14,
      "outputs": []
    },
    {
      "cell_type": "code",
      "source": [
        "# test 8x8 board\n",
        "board_8x8, total_grains = wheat_chessboard(8, 8)\n",
        "print(\"8x8 chesboard:\\n\", board_8x8[:8, :8])\n",
        "print(\"\\nTotal grains on Chessoard:\", total_grains)"
      ],
      "metadata": {
        "colab": {
          "base_uri": "https://localhost:8080/"
        },
        "id": "1jUdp55QwN6v",
        "outputId": "a2ad375e-2d14-4447-9b29-6dfb0bc3e223"
      },
      "execution_count": 17,
      "outputs": [
        {
          "output_type": "stream",
          "name": "stdout",
          "text": [
            "8x8 chesboard:\n",
            " [[                  1                   2                   4\n",
            "                    8                  16                  32\n",
            "                   64                 128]\n",
            " [                256                 512                1024\n",
            "                 2048                4096                8192\n",
            "                16384               32768]\n",
            " [              65536              131072              262144\n",
            "               524288             1048576             2097152\n",
            "              4194304             8388608]\n",
            " [           16777216            33554432            67108864\n",
            "            134217728           268435456           536870912\n",
            "           1073741824          2147483648]\n",
            " [         4294967296          8589934592         17179869184\n",
            "          34359738368         68719476736        137438953472\n",
            "         274877906944        549755813888]\n",
            " [      1099511627776       2199023255552       4398046511104\n",
            "        8796093022208      17592186044416      35184372088832\n",
            "       70368744177664     140737488355328]\n",
            " [    281474976710656     562949953421312    1125899906842624\n",
            "     2251799813685248    4503599627370496    9007199254740992\n",
            "    18014398509481984   36028797018963968]\n",
            " [  72057594037927936  144115188075855872  288230376151711744\n",
            "   576460752303423488 1152921504606846976 2305843009213693952\n",
            "  4611686018427387904 9223372036854775808]]\n",
            "\n",
            "Total grains on Chessoard: 18446744073709551615\n"
          ]
        }
      ]
    },
    {
      "cell_type": "code",
      "source": [
        "#Q3.2 8x8 chessboard - Column wheat averages and graph\n",
        "import matplotlib.pyplot as plt\n",
        "chessboard, total_grains = wheat_chessboard(8, 8)\n",
        "column_avgs = chessboard.mean(axis=0)\n",
        "\n",
        "# ploting graph\n",
        "plt.figure(figsize=(12, 6))\n",
        "bars = plt.bar(range(1, 9), column_avgs, color='black')\n",
        "# Customize the plot\n",
        "plt.title('Average Wheat Grains per Column (8x8 Chessboard)', fontsize=14, pad=20)\n",
        "plt.xlabel('Chessboard Columns (1-8)', fontsize=12)\n",
        "plt.ylabel('Average Grains (log scale)', fontsize=12)\n",
        "plt.yscale('log')  # Use log scale due to exponential growth\n",
        "plt.grid(axis='y', alpha=0.3)\n",
        "\n",
        "# Add value labels on top of bars\n",
        "for bar in bars:\n",
        "    height = bar.get_height()\n",
        "    plt.text(bar.get_x() + bar.get_width()/2., height,\n",
        "             f'{height:.2e}',\n",
        "             ha='center', va='bottom', fontsize=9)\n",
        "\n",
        "plt.xticks(range(1, 9))\n",
        "plt.tight_layout()\n",
        "plt.show()\n",
        "\n",
        "# Return key statistics\n",
        "print(\"Column Averages:\")\n",
        "for col, avg in enumerate(column_avgs, 1):\n",
        "    print(f\"Column {col}: {avg:.2e} grains (average)\")\n",
        "\n",
        "print(f\"\\nTotal grains on chessboard: {chessboard.sum()}\")"
      ],
      "metadata": {
        "colab": {
          "base_uri": "https://localhost:8080/",
          "height": 798
        },
        "id": "rBc74HVKwI2h",
        "outputId": "6b5c97da-ffc2-45ab-ac74-2b0be16be079"
      },
      "execution_count": 25,
      "outputs": [
        {
          "output_type": "display_data",
          "data": {
            "text/plain": [
              "<Figure size 1200x600 with 1 Axes>"
            ],
            "image/png": "[encoded data removed]"
          },
          "metadata": {}
        },
        {
          "output_type": "stream",
          "name": "stdout",
          "text": [
            "Column Averages:\n",
            "Column 1: 9.04e+15 grains (average)\n",
            "Column 2: 1.81e+16 grains (average)\n",
            "Column 3: 3.62e+16 grains (average)\n",
            "Column 4: 7.23e+16 grains (average)\n",
            "Column 5: 1.45e+17 grains (average)\n",
            "Column 6: 2.89e+17 grains (average)\n",
            "Column 7: 5.79e+17 grains (average)\n",
            "Column 8: 1.16e+18 grains (average)\n",
            "\n",
            "Total grains on chessboard: 18446744073709551615\n"
          ]
        }
      ]
    },
    {
      "cell_type": "code",
      "source": [
        "#Q3.3 8x8 chessboard - heatmap of the chessboard grain distribution\n",
        "# Generate 8×8 chessboard\n",
        "def wheat_chessboard(n, m):\n",
        "    grains = [1]\n",
        "    for _ in range(1, n*m):\n",
        "        grains.append(2 * grains[-1])\n",
        "    return np.array(grains, dtype=np.uint64).reshape(n, m)\n",
        "chessboard = wheat_chessboard(8, 8)\n",
        "\n",
        "# Create heatmap visualization\n",
        "plt.figure(figsize=(10, 8))\n",
        "heatmap = plt.pcolor(np.log10(chessboard),  # Log scale for better contrast\n",
        "                     cmap='viridis',        # Purple (low) to yellow (high)\n",
        "                     edgecolors='black',    # Grid lines\n",
        "                     linewidths=0.5)        # Thin grid lines\n",
        "# Customize plot\n",
        "plt.title('Wheat Grains on 8×8 Chessboard (Log Scale)', pad=20, fontsize=14)\n",
        "plt.xlabel('Column', fontsize=12)\n",
        "plt.ylabel('Row', fontsize=12)\n",
        "plt.xticks(np.arange(0.5, 8.5), range(1, 9))\n",
        "plt.yticks(np.arange(0.5, 8.5), range(1, 9))"
      ],
      "metadata": {
        "colab": {
          "base_uri": "https://localhost:8080/",
          "height": 1000
        },
        "id": "OLnn0I4M3HSC",
        "outputId": "e50ad10c-a204-4c09-e934-fe91bb521023"
      },
      "execution_count": 28,
      "outputs": [
        {
          "output_type": "execute_result",
          "data": {
            "text/plain": [
              "([<matplotlib.axis.YTick at 0x7eaca1e1c3d0>,\n",
              "  <matplotlib.axis.YTick at 0x7eaca242f590>,\n",
              "  <matplotlib.axis.YTick at 0x7eaca1b25c50>,\n",
              "  <matplotlib.axis.YTick at 0x7eaca1b83750>,\n",
              "  <matplotlib.axis.YTick at 0x7eaca1b89e90>,\n",
              "  <matplotlib.axis.YTick at 0x7eaca1b982d0>,\n",
              "  <matplotlib.axis.YTick at 0x7eaca1b9a8d0>,\n",
              "  <matplotlib.axis.YTick at 0x7eaca1b9b710>],\n",
              " [Text(0, 0.5, '1'),\n",
              "  Text(0, 1.5, '2'),\n",
              "  Text(0, 2.5, '3'),\n",
              "  Text(0, 3.5, '4'),\n",
              "  Text(0, 4.5, '5'),\n",
              "  Text(0, 5.5, '6'),\n",
              "  Text(0, 6.5, '7'),\n",
              "  Text(0, 7.5, '8')])"
            ]
          },
          "metadata": {},
          "execution_count": 28
        },
        {
          "output_type": "display_data",
          "data": {
            "text/plain": [
              "<Figure size 1000x800 with 1 Axes>"
            ],
            "image/png": "[encoded data removed]"
          },
          "metadata": {}
        }
      ]
    },
    {
      "cell_type": "code",
      "source": [
        "# Q4. The second half of the chessboard\n",
        "# How many times larger is the second half than the first half?\n",
        "\n",
        "# generate full board\n",
        "chessboard = np.array([2**n for n in range(64)], dtype=np.uint64).reshape(8,8)\n",
        "\n",
        "# split into halves\n",
        "first_half = chessboard[:4, :].sum() # 0-3 rows\n",
        "second_half = chessboard[4:, :].sum() # 4-7 rows\n",
        "\n",
        "ratio = second_half / first_half\n",
        "product = first_half * second_half\n",
        "\n",
        "print(f\"The first half is {first_half} grains.\")\n",
        "print(f\"The second half is {second_half} grains.\")\n",
        "print(f\"The product of the two halves is {product:.2e} grains.\")\n",
        "print(f\"The second half is {ratio:.2e} times larger than the first half.\")"
      ],
      "metadata": {
        "colab": {
          "base_uri": "https://localhost:8080/"
        },
        "id": "-Vin9KNoHGzZ",
        "outputId": "30395176-a432-4bad-b701-63dee113a42e"
      },
      "execution_count": 30,
      "outputs": [
        {
          "output_type": "stream",
          "name": "stdout",
          "text": [
            "The first half is 4294967295 grains.\n",
            "The second half is 18446744069414584320 grains.\n",
            "The product of the two halves is 4.29e+09 grains.\n",
            "The second half is 4.29e+09 times larger than the first half.\n"
          ]
        },
        {
          "output_type": "stream",
          "name": "stderr",
          "text": [
            "<ipython-input-30-fcdcae20effa>:12: RuntimeWarning: overflow encountered in scalar multiply\n",
            "  product = first_half * second_half\n"
          ]
        }
      ]
    },
    {
      "cell_type": "code",
      "source": [
        "# Q5. Alternative methods: Other calculation methods\n",
        "\n",
        "import numpy as np\n",
        "\"\"\"Create chessboard using broadcasting\"\"\"\n",
        "def wheat_chessboard_broadcast(n, m):\n",
        "    exponents = np.arange(n * m, dtype=np.uint64)\n",
        "    return (2 ** exponents).reshape(n, m)\n",
        "\n",
        "\"\"\"Create chessboard using np.append()\"\"\"\n",
        "def wheat_chessboard_append(n, m):\n",
        "    grains = np.array([1], dtype=np.uint64)\n",
        "    for _ in range(1, n * m):\n",
        "        grains = np.append(grains, 2 * grains[-1])\n",
        "    return grains.reshape(n, m)\n",
        "\n",
        "# Calculate for 8x8 chessboard using both methods\n",
        "board_broadcast = wheat_chessboard_broadcast(8, 8)\n",
        "board_append = wheat_chessboard_append(8, 8)\n",
        "\n",
        "# Verify both methods give same result\n",
        "print(\"Using broadcasting (first 3x3 corner):\\n\", board_broadcast[:8, :8])\n",
        "print(\"\\nUsing np.append (first 3x3 corner):\\n\", board_append[:8, :8])\n",
        "print(\"\\nTotal grains (broadcasting):\", board_broadcast.sum())\n",
        "print(\"Total grains (np.append):\", board_append.sum())\n",
        "print(\"Methods agree:\", np.array_equal(board_broadcast, board_append))"
      ],
      "metadata": {
        "colab": {
          "base_uri": "https://localhost:8080/"
        },
        "id": "du2fSukxPLUN",
        "outputId": "4db2b446-67a7-4676-af55-b3fe6ff4492a"
      },
      "execution_count": 44,
      "outputs": [
        {
          "output_type": "stream",
          "name": "stdout",
          "text": [
            "Using broadcasting (first 3x3 corner):\n",
            " [[                  1                   2                   4\n",
            "                    8                  16                  32\n",
            "                   64                 128]\n",
            " [                256                 512                1024\n",
            "                 2048                4096                8192\n",
            "                16384               32768]\n",
            " [              65536              131072              262144\n",
            "               524288             1048576             2097152\n",
            "              4194304             8388608]\n",
            " [           16777216            33554432            67108864\n",
            "            134217728           268435456           536870912\n",
            "           1073741824          2147483648]\n",
            " [         4294967296          8589934592         17179869184\n",
            "          34359738368         68719476736        137438953472\n",
            "         274877906944        549755813888]\n",
            " [      1099511627776       2199023255552       4398046511104\n",
            "        8796093022208      17592186044416      35184372088832\n",
            "       70368744177664     140737488355328]\n",
            " [    281474976710656     562949953421312    1125899906842624\n",
            "     2251799813685248    4503599627370496    9007199254740992\n",
            "    18014398509481984   36028797018963968]\n",
            " [  72057594037927936  144115188075855872  288230376151711744\n",
            "   576460752303423488 1152921504606846976 2305843009213693952\n",
            "  4611686018427387904 9223372036854775808]]\n",
            "\n",
            "Using np.append (first 3x3 corner):\n",
            " [[                  1                   2                   4\n",
            "                    8                  16                  32\n",
            "                   64                 128]\n",
            " [                256                 512                1024\n",
            "                 2048                4096                8192\n",
            "                16384               32768]\n",
            " [              65536              131072              262144\n",
            "               524288             1048576             2097152\n",
            "              4194304             8388608]\n",
            " [           16777216            33554432            67108864\n",
            "            134217728           268435456           536870912\n",
            "           1073741824          2147483648]\n",
            " [         4294967296          8589934592         17179869184\n",
            "          34359738368         68719476736        137438953472\n",
            "         274877906944        549755813888]\n",
            " [      1099511627776       2199023255552       4398046511104\n",
            "        8796093022208      17592186044416      35184372088832\n",
            "       70368744177664     140737488355328]\n",
            " [    281474976710656     562949953421312    1125899906842624\n",
            "     2251799813685248    4503599627370496    9007199254740992\n",
            "    18014398509481984   36028797018963968]\n",
            " [  72057594037927936  144115188075855872  288230376151711744\n",
            "   576460752303423488 1152921504606846976 2305843009213693952\n",
            "  4611686018427387904 9223372036854775808]]\n",
            "\n",
            "Total grains (broadcasting): 18446744073709551615\n",
            "Total grains (np.append): 18446744073709551615\n",
            "Methods agree: True\n"
          ]
        }
      ]
    },
    {
      "cell_type": "code",
      "source": [
        "%%timeit\n",
        "import numpy as np\n",
        "\"\"\"For loop with Python list\"\"\"\n",
        "def wheat_chessboard(n, m):\n",
        "  total_squares = n * m\n",
        "  grains = [1] # starting with one grain\n",
        "  for _ in range(1, total_squares):\n",
        "    grains.append(grains[-1] * 2) #doubles no. of grains\n",
        "\n",
        "  chessboard = np.array(grains, dtype=np.uint64).reshape(n,m)\n",
        "  total = chessboard.sum()\n",
        "\n",
        "  return chessboard, total\n",
        "  # Calculate for 8x8 chessboard\n",
        "  board_8x8, total_grains = wheat_chessboard(8, 8)"
      ],
      "metadata": {
        "id": "7Bp30STASWbq",
        "outputId": "a44a5708-3c48-4ba9-b735-760b762573dd",
        "colab": {
          "base_uri": "https://localhost:8080/"
        }
      },
      "execution_count": 40,
      "outputs": [
        {
          "output_type": "stream",
          "name": "stdout",
          "text": [
            "235 ns ± 6.35 ns per loop (mean ± std. dev. of 7 runs, 1000000 loops each)\n"
          ]
        }
      ]
    },
    {
      "cell_type": "code",
      "source": [
        "%%timeit\n",
        "import numpy as np\n",
        "\"\"\"Create chessboard using broadcasting\"\"\"\n",
        "def wheat_chessboard_broadcast(n, m):\n",
        "    exponents = np.arange(n * m, dtype=np.uint64)\n",
        "    return (2 ** exponents).reshape(n, m)\n",
        "\n",
        "# Calculate for 8x8 chessboard\n",
        "board_broadcast = wheat_chessboard_broadcast(8, 8)\n"
      ],
      "metadata": {
        "colab": {
          "base_uri": "https://localhost:8080/"
        },
        "id": "Mze-zSVMP2JX",
        "outputId": "645dea86-30ec-461e-9769-e070bd655758"
      },
      "execution_count": 41,
      "outputs": [
        {
          "output_type": "stream",
          "name": "stdout",
          "text": [
            "2.97 µs ± 138 ns per loop (mean ± std. dev. of 7 runs, 100000 loops each)\n"
          ]
        }
      ]
    },
    {
      "cell_type": "markdown",
      "source": [],
      "metadata": {
        "id": "KMUBiXtEU_VQ"
      }
    },
    {
      "cell_type": "code",
      "source": [
        "%%timeit\n",
        "import numpy as np\n",
        "\"\"\"Create chessboard using np.append()\"\"\"\n",
        "def wheat_chessboard_append(n, m):\n",
        "    grains = np.array([1], dtype=np.uint64)\n",
        "    for _ in range(1, n * m):\n",
        "        grains = np.append(grains, 2 * grains[-1])\n",
        "    return grains.reshape(n, m)\n",
        "\n",
        "# Calculate for 8x8 chessboard\n",
        "board_append = wheat_chessboard_append(8, 8)"
      ],
      "metadata": {
        "id": "bjFkdtVTSccG",
        "outputId": "4f228e04-7003-4e67-e7a8-b3b66b732b67",
        "colab": {
          "base_uri": "https://localhost:8080/"
        }
      },
      "execution_count": 43,
      "outputs": [
        {
          "output_type": "stream",
          "name": "stdout",
          "text": [
            "381 µs ± 91.9 µs per loop (mean ± std. dev. of 7 runs, 1000 loops each)\n"
          ]
        }
      ]
    },
    {
      "cell_type": "markdown",
      "source": [
        "Performance Comparison (8x8 chessboard)\n",
        "Average of 7 runs\n",
        "\n",
        "1. Python list + for loop: 235 ns ± 6.35 ns per loop (mean ± std. dev. of 7 runs, 1000000 loops each)\n",
        "2. NumPy broadcasting: 2.97 µs ± 138 ns per loop (mean ± std. dev. of 7 runs, 100000 loops each)\n",
        "3. np.append() + loop: 381 µs ± 91.9 µs per loop (mean ± std. dev. of 7 runs, 1000 loops each)\n",
        "\n",
        "***Speedup Factors***\n",
        "\n",
        "- Broadcasting vs list:    12.6x slower\n",
        "- Broadcasting vs append:  128x faster\n",
        "- Append vs list:          1,621x slower\n",
        "\n",
        "Key Observations\n",
        "\n",
        "Unexpected Result:\n",
        "\n",
        "1. The Python list method outperformed NumPy broadcasting by 12.6x for small (8×8) arrays.\n",
        "\n",
        "  Reason: NumPy's broadcasting overhead dominates for tiny problems.\n",
        "\n",
        "2. Expected Scaling:\n",
        "\n",
        "   np.append() remains the slowest option (1600x slower than lists).\n",
        "\n",
        "3. Practical Implications:\n",
        "\n",
        "   For small arrays (<100 elements): Python lists may be faster\n",
        "\n",
        "   For large arrays: Broadcasting will eventually dominate (test with 100×100 chessboard)\n",
        "\n",
        "   np.append() should always be avoided in loops"
      ],
      "metadata": {
        "id": "iztmkeMQWJIO"
      }
    },
    {
      "cell_type": "code",
      "source": [],
      "metadata": {
        "id": "oi5yk3E-bU8r"
      },
      "execution_count": null,
      "outputs": []
    }
  ]
}