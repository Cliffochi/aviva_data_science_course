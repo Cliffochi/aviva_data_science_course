{
  "nbformat": 4,
  "nbformat_minor": 0,
  "metadata": {
    "colab": {
      "provenance": [],
      "authorship_tag": "ABX9TyMecnOoc4xkJx6VN7lC/Hm8",
      "include_colab_link": true
    },
    "kernelspec": {
      "name": "python3",
      "display_name": "Python 3"
    },
    "language_info": {
      "name": "python"
    }
  },
  "cells": [
    {
      "cell_type": "markdown",
      "metadata": {
        "id": "view-in-github",
        "colab_type": "text"
      },
      "source": [
        "<a href=\"https://colab.research.google.com/github/Cliffochi/aviva_data_science_course/blob/main/Aviva_paper_folding_assignment.ipynb\" target=\"_parent\"><img src=\"https://colab.research.google.com/assets/colab-badge.svg\" alt=\"Open In Colab\"/></a>"
      ]
    },
    {
      "cell_type": "code",
      "source": [
        "# practise exercises\n",
        "#No. 1 Code to calculate the thickness of a piece of paper when folded once\n",
        "\n",
        "THICKNESS = 0.00008\n",
        "\n",
        "folded_thickness = THICKNESS * (2**43)\n",
        "\n",
        "print(\"Thickness: {} meters\".format(folded_thickness))"
      ],
      "metadata": {
        "colab": {
          "base_uri": "https://localhost:8080/"
        },
        "id": "JfsF5D6H-ICM",
        "outputId": "a30fc1aa-3078-4197-b1ec-e6ad5baeaefa"
      },
      "execution_count": null,
      "outputs": [
        {
          "output_type": "stream",
          "name": "stdout",
          "text": [
            "Thickness: 703687441.77664 meters\n"
          ]
        }
      ]
    },
    {
      "cell_type": "code",
      "source": [
        "# Convert meters to kilometers and display with two decimal places\n",
        "folded_thickness_km = folded_thickness / 1000\n",
        "print(\"Thickness: {:.2f} kilometers\".format(folded_thickness_km))"
      ],
      "metadata": {
        "colab": {
          "base_uri": "https://localhost:8080/"
        },
        "id": "Ouz13LAC_WxU",
        "outputId": "13b24cab-6241-4683-bc37-10a8500c708b"
      },
      "execution_count": null,
      "outputs": [
        {
          "output_type": "stream",
          "name": "stdout",
          "text": [
            "Thickness: 703687.44 kilometers\n"
          ]
        }
      ]
    },
    {
      "cell_type": "code",
      "source": [
        "# The Moon is approximately 384,400 km. See if your folded piece of paper can reach the Moon.\n",
        "dist_to_moon = 384400\n",
        "print(\"Paper folded 43 times = {} times distance to moon\".format(folded_thickness_km / dist_to_moon))"
      ],
      "metadata": {
        "colab": {
          "base_uri": "https://localhost:8080/"
        },
        "id": "8g1MeROkBCWs",
        "outputId": "dec2961a-4894-4b53-c5ff-740d0f118629"
      },
      "execution_count": null,
      "outputs": [
        {
          "output_type": "stream",
          "name": "stdout",
          "text": [
            "Paper folded 43 times = 1.8306124916145683 times distance to moon\n"
          ]
        }
      ]
    },
    {
      "cell_type": "code",
      "source": [
        "# using fo statement to find the thickness of a paper folded 43 times\n",
        "\n",
        "THICKNESS = 0.00008 # initial thickness\n",
        "folded_thickness = THICKNESS\n",
        "for i in range(43):\n",
        "    folded_thickness *= 2\n",
        "print(\"Thickness: {} meters\".format(folded_thickness))\n"
      ],
      "metadata": {
        "colab": {
          "base_uri": "https://localhost:8080/"
        },
        "id": "6WBB0ukFBYwz",
        "outputId": "50e793e3-bd77-43e8-a1ea-d446727590b3"
      },
      "execution_count": null,
      "outputs": [
        {
          "output_type": "stream",
          "name": "stdout",
          "text": [
            "Thickness: 703687441.77664 meters\n"
          ]
        }
      ]
    },
    {
      "cell_type": "code",
      "source": [
        "import time\n",
        "start = time.time()\n",
        "\n",
        "THICKNESS = 0.00008 # initial thickness\n",
        "folded_thickness = THICKNESS\n",
        "for i in range(43):\n",
        "    folded_thickness *= 2\n",
        "print(\"Thickness: {} meters\".format(folded_thickness))\n",
        "\n",
        "elapsed_time = time.time() - start\n",
        "print(\"time : {}[s]\".format(elapsed_time))"
      ],
      "metadata": {
        "colab": {
          "base_uri": "https://localhost:8080/"
        },
        "id": "LdxYm8ApEZFU",
        "outputId": "06407e9b-0c38-49b1-c712-1986d66a283c"
      },
      "execution_count": null,
      "outputs": [
        {
          "output_type": "stream",
          "name": "stdout",
          "text": [
            "Thickness: 703687441.77664 meters\n",
            "time : 0.0037183761596679688[s]\n"
          ]
        }
      ]
    },
    {
      "cell_type": "code",
      "source": [
        "import time\n",
        "start = time.time()\n",
        "\n",
        "THICKNESS = 0.00008\n",
        "\n",
        "folded_thickness = THICKNESS * (2**43)\n",
        "\n",
        "print(\"Thickness: {} meters\".format(folded_thickness))\n",
        "\n",
        "elapsed_time = time.time() - start\n",
        "print(\"time : {}[s]\".format(elapsed_time))"
      ],
      "metadata": {
        "colab": {
          "base_uri": "https://localhost:8080/"
        },
        "id": "zt3zAV5xE35T",
        "outputId": "208eab2b-5978-4aac-982a-53dd3e28bb87"
      },
      "execution_count": null,
      "outputs": [
        {
          "output_type": "stream",
          "name": "stdout",
          "text": [
            "Thickness: 703687441.77664 meters\n",
            "time : 0.00020265579223632812[s]\n"
          ]
        }
      ]
    },
    {
      "cell_type": "markdown",
      "source": [
        "Using atrithmetic operators is faster and takes a shorter time to execute."
      ],
      "metadata": {
        "id": "prziikHiFr5W"
      }
    },
    {
      "cell_type": "code",
      "source": [
        "%%timeit\n",
        "THICKNESS = 0.00008\n",
        "\n",
        "folded_thickness = THICKNESS * (2**43)\n",
        "\n",
        "print(\"Thickness: {} meters\".format(folded_thickness))"
      ],
      "metadata": {
        "id": "UkS7xiHSF4FD"
      },
      "execution_count": null,
      "outputs": []
    },
    {
      "cell_type": "code",
      "source": [
        "THICKNESS = 0.00008 # initial thickness\n",
        "\n",
        "# creating a list\n",
        "thickness_list = []\n",
        "\n",
        "# Adding initial thickness\n",
        "folded_thickness = THICKNESS\n",
        "thickness_list.append(folded_thickness)\n",
        "\n",
        "# recording thickness after each fold\n",
        "for i in range(43):\n",
        "  folded_thickness *= 2\n",
        "  thickness_list.append(folded_thickness)\n",
        "\n",
        "# check the list length (44)\n",
        "print(\"No. of recorded values:\", len(thickness_list))\n"
      ],
      "metadata": {
        "colab": {
          "base_uri": "https://localhost:8080/"
        },
        "id": "bTgawBBbII-a",
        "outputId": "43bdb6df-98c5-454d-b65a-18e4d5d90fa5"
      },
      "execution_count": null,
      "outputs": [
        {
          "output_type": "stream",
          "name": "stdout",
          "text": [
            "No. of recorded values: 44\n"
          ]
        }
      ]
    },
    {
      "cell_type": "code",
      "source": [
        "# creating a graph\n",
        "import matplotlib.pyplot as plt\n",
        "%matplotlib inline\n",
        "\n",
        "# Display the graph. With title and axis label names.\n",
        "plt.title(\"thickness of folded paper\")\n",
        "plt.xlabel(\"number of folds\")\n",
        "plt.ylabel(\"thickness [m]\")\n",
        "plt.plot(thickness_list)\n",
        "plt.show()"
      ],
      "metadata": {
        "colab": {
          "base_uri": "https://localhost:8080/",
          "height": 472
        },
        "id": "00cBHnHIJEsJ",
        "outputId": "e4cd8f6e-ade9-41c2-e59b-02c94dc862b9"
      },
      "execution_count": null,
      "outputs": [
        {
          "output_type": "display_data",
          "data": {
            "text/plain": [
              "<Figure size 640x480 with 1 Axes>"
            ],
            "image/png": "[encoded data removed]"
          },
          "metadata": {}
        }
      ]
    },
    {
      "cell_type": "markdown",
      "source": [
        "From the graph we can see that the paper thickness increases exponentially as we approach the 43rd fold."
      ],
      "metadata": {
        "id": "WjKaUip7KFuT"
      }
    },
    {
      "cell_type": "code",
      "source": [
        "# playing around with graph parameters\n",
        "plt.title(\"thickness of folded paper\")\n",
        "plt.xlabel(\"number of folds\", fontsize=15)\n",
        "plt.ylabel(\"thickness [m]\", fontsize=15)\n",
        "plt.tick_params(labelsize=15, color='red')\n",
        "plt.plot(thickness_list, color='red', linestyle=':', linewidth=2.5)\n",
        "plt.show()"
      ],
      "metadata": {
        "colab": {
          "base_uri": "https://localhost:8080/",
          "height": 484
        },
        "id": "nt3tQUSGJ7yn",
        "outputId": "cc6c7cc2-da3e-4369-e0b7-53817160b23c"
      },
      "execution_count": null,
      "outputs": [
        {
          "output_type": "display_data",
          "data": {
            "text/plain": [
              "<Figure size 640x480 with 1 Axes>"
            ],
            "image/png": "[encoded data removed]"
          },
          "metadata": {}
        }
      ]
    },
    {
      "cell_type": "code",
      "source": [],
      "metadata": {
        "id": "zCRyK29lLLE6"
      },
      "execution_count": null,
      "outputs": []
    }
  ]
}