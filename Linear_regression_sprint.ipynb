{
  "nbformat": 4,
  "nbformat_minor": 0,
  "metadata": {
    "colab": {
      "provenance": [],
      "mount_file_id": "1X4pIEuKzIN7SfVpp526r5qBUyz3-N3dO",
      "authorship_tag": "ABX9TyMMu5GbQFjEvp9XCu734Gx/",
      "include_colab_link": true
    },
    "kernelspec": {
      "name": "python3",
      "display_name": "Python 3"
    },
    "language_info": {
      "name": "python"
    }
  },
  "cells": [
    {
      "cell_type": "markdown",
      "metadata": {
        "id": "view-in-github",
        "colab_type": "text"
      },
      "source": [
        "<a href=\"https://colab.research.google.com/github/Cliffochi/aviva_data_science_course/blob/main/Linear_regression_sprint.ipynb\" target=\"_parent\"><img src=\"https://colab.research.google.com/assets/colab-badge.svg\" alt=\"Open In Colab\"/></a>"
      ]
    },
    {
      "cell_type": "markdown",
      "source": [
        "###Sprint Objective\n",
        "\n",
        "- Understanding Linear Regression through Scratch\n",
        "- Get used to object-oriented implementation\n",
        "- Putting math into code"
      ],
      "metadata": {
        "id": "sytuhIoYKI5K"
      }
    },
    {
      "cell_type": "code",
      "source": [
        "import numpy as np\n",
        "\n",
        "class ScratchLinearRegression():\n",
        "    \"\"\"\n",
        "    Linear regression implemented from scratch\n",
        "\n",
        "    Parameters\n",
        "    ----------\n",
        "    num_iter : int\n",
        "        Number of iterations\n",
        "    lr : float\n",
        "        Learning rate\n",
        "    no_bias : bool\n",
        "        Whether to exclude bias term\n",
        "    verbose : bool\n",
        "        Whether to print progress\n",
        "\n",
        "    Attributes\n",
        "    ----------\n",
        "    self.coef_ : ndarray, shape(n_features,)\n",
        "        Learned coefficients\n",
        "    self.loss : ndarray, shape(self.iter,)\n",
        "        Training loss history\n",
        "    self.val_loss : ndarray, shape(self.iter,)\n",
        "        Validation loss history\n",
        "    \"\"\"\n",
        "    # Let's fill in linear_hypothesis and update the _init method to initialize he weights correctly.\n",
        "\n",
        "    def __init__(self, num_iter, lr, no_bias=False, verbose=False):\n",
        "        self.num_iter = num_iter\n",
        "        self.lr = lr\n",
        "        self.no_bias = no_bias\n",
        "        self.verbose = verbose\n",
        "\n",
        "        # Initialize attributes\n",
        "        self.coef_ = None\n",
        "        self.loss = np.zeros(num_iter)\n",
        "        self.val_loss = np.zeros(num_iter)\n",
        "\n",
        "    def _linear_hypothesis(self, X):\n",
        "        \"\"\"\n",
        "        Linear regression hypothesis function (hθ(x) = θ.T @ x)\n",
        "\n",
        "        Parameters\n",
        "        ----------\n",
        "        X : ndarray, shape (n_samples, n_features)\n",
        "            Input features\n",
        "\n",
        "        Returns\n",
        "        -------\n",
        "        ndarray, shape (n_samples, 1)\n",
        "            Predicted values\n",
        "        \"\"\"\n",
        "        return X @ self.coef_\n",
        "        \"\"\"\n",
        "        【problem2】Steepest descent\n",
        "        Please implement training using the gradient descent method.\n",
        "        Add the _gradient_descent method for updating the parameters expressed by the following formula, and call it from the fit method.\n",
        "        \"\"\"\n",
        "        def fit(self, X, y, X_val=None, y_val=None):\n",
        "          \"\"\"\n",
        "          Fit linear regression model\n",
        "\n",
        "          Parameters\n",
        "          ----------\n",
        "          X : ndarray, shape (n_samples, n_features)\n",
        "              Training features\n",
        "          y : ndarray, shape (n_samples,)\n",
        "              Training targets\n",
        "          X_val : ndarray, shape (n_samples, n_features), optional\n",
        "              Validation features\n",
        "          y_val : ndarray, shape (n_samples,), optional\n",
        "              Validation targets\n",
        "          \"\"\"\n",
        "        # Add bias term if needed\n",
        "        if not self.no_bias:\n",
        "            X = np.hstack([np.ones(X.shape[0], 1), X])\n",
        "            if X_val is not None:\n",
        "                X_val = np.hstack([np.ones(X_val.shape[0], 1), X_val])\n",
        "\n",
        "        # Initialize coefficients\n",
        "        self.coef_ = np.zeros(X.shape[1])\n",
        "\n",
        "        # Gradient descent\n",
        "        for i in range(self.num_iter):\n",
        "            # Calculate predictions and errors\n",
        "            pred = self._linear_hypothesis(X)\n",
        "            error = pred - y\n",
        "\n",
        "            # Update coefficients\n",
        "            gradient = X.T @ error / len(y)\n",
        "            self.coef_ -= self.lr * gradient\n",
        "\n",
        "            # Calculate losses\n",
        "            self.loss[i] = np.mean(error ** 2)\n",
        "            if X_val is not None and y_val is not None:\n",
        "                val_pred = self._linear_hypothesis(X_val)\n",
        "                self.val_loss[i] = np.mean((val_pred - y_val) ** 2)\n",
        "\n",
        "            # Print progress if verbose\n",
        "            if self.verbose and i % 100 == 0:\n",
        "                print(f\"Iteration {i}: Train Loss = {self.loss[i]:.4f}\", end=\"\")\n",
        "                if X_val is not None:\n",
        "                    print(f\", Val Loss = {self.val_loss[i]:.4f}\")\n",
        "                else:\n",
        "                    print()\n",
        "\n",
        "                    \"\"\"\n",
        "                    We need to implement the predict method of the ScratchLinearRegression class using the hypothesis function.\n",
        "                    This function gives the model’s predictions by performing a dot product between the input matrix X and the learned parameters theta (stored in self.coef_)\n",
        "                    \"\"\"\n",
        "\n",
        "    def predict(self, X):\n",
        "        \"\"\"\n",
        "        Predict using linear regression model\n",
        "\n",
        "        Parameters\n",
        "        ----------\n",
        "        X : ndarray, shape (n_samples, n_features)\n",
        "            Input features\n",
        "\n",
        "        Returns\n",
        "        -------\n",
        "        ndarray, shape (n_samples,)\n",
        "            Predicted values\n",
        "        \"\"\"\n",
        "        if not self.no_bias:\n",
        "            X = np.hstack([np.ones(X.shape[0], 1), X])\n",
        "        return self._linear_hypothesis(X)"
      ],
      "metadata": {
        "id": "RUxVMuboVR2_"
      },
      "execution_count": 2,
      "outputs": []
    },
    {
      "cell_type": "markdown",
      "source": [
        "【problem 4】Mean squared error"
      ],
      "metadata": {
        "id": "HkuqMUTnATNv"
      }
    },
    {
      "cell_type": "code",
      "source": [
        "# implementation of the Mean Squared Error (MSE) function, as a standalone function\n",
        "\n",
        "import numpy as np\n",
        "\n",
        "def MSE(y_pred, y):\n",
        "    \"\"\"\n",
        "    Calculation of mean square error\n",
        "\n",
        "    Parameters\n",
        "    ----------\n",
        "    y_pred : ndarray, shape (n_samples,)\n",
        "        Estimated values\n",
        "    y : ndarray, shape (n_samples,)\n",
        "        Correct (true) values\n",
        "\n",
        "    Returns\n",
        "    ----------\n",
        "    mse : numpy.float\n",
        "        Mean squared error\n",
        "    \"\"\"\n",
        "    mse = np.mean((y_pred - y) ** 2)\n",
        "    return mse"
      ],
      "metadata": {
        "id": "T7szvPkiADrD"
      },
      "execution_count": 3,
      "outputs": []
    },
    {
      "cell_type": "markdown",
      "source": [
        "\n",
        "This function computes the average of the squared differences between predicted values and actual target values.\n",
        "\n",
        "It can be reused across various regression models, not just the ScratchLinearRegression."
      ],
      "metadata": {
        "id": "PLN2gPpPBUeU"
      }
    },
    {
      "cell_type": "markdown",
      "source": [
        "【problem 5】Objective function\n",
        "\n",
        "Implement the objective function (loss function) of linear regression represented by the following formula and be sure to record this inself.loss,self.val_loss.\n",
        "\n",
        "- This function should be called inside the training loop within the fit() method, after every epoch or batch.\n",
        "\n",
        "- self.loss and self.val_loss should be initialized as empty lists in the class constructor (__init__)."
      ],
      "metadata": {
        "id": "KvhUPHsXB0kE"
      }
    },
    {
      "cell_type": "code",
      "source": [
        "\"\"\"\n",
        "we will:\n",
        "Use the Mean Squared Error (MSE) function from Problem 4.\n",
        "Divide the MSE by 2, as the gradient descent objective function is defined.\n",
        "\"\"\"\n",
        "def _calculate_loss(self, X, y, val=False):\n",
        "    \"\"\"\n",
        "    Calculate the loss (objective function) and store it in self.loss or self.val_loss\n",
        "\n",
        "    Parameters\n",
        "    ----------\n",
        "    X : ndarray, shape (n_samples, n_features)\n",
        "        Feature data\n",
        "    y : ndarray, shape (n_samples,)\n",
        "        Correct values\n",
        "    val : bool, default=False\n",
        "        If True, store in self.val_loss instead of self.loss\n",
        "    \"\"\"\n",
        "    y_pred = self.predict(X)\n",
        "    mse = MSE(y_pred, y)\n",
        "    loss = 0.5 * mse\n",
        "\n",
        "    if val:\n",
        "        self.val_loss.append(loss)\n",
        "    else:\n",
        "        self.loss.append(loss)\n"
      ],
      "metadata": {
        "id": "8H3EZptlBu5k"
      },
      "execution_count": 4,
      "outputs": []
    },
    {
      "cell_type": "markdown",
      "source": [
        "###Verification\n",
        "\n",
        "Problem 6 Learning and Estimation\n",
        "\n",
        "a. Load and prepare data"
      ],
      "metadata": {
        "id": "zk4lhOa9CpS6"
      }
    },
    {
      "cell_type": "code",
      "source": [
        "# loading and preparing the data\n",
        "import pandas as pd\n",
        "from sklearn.model_selection import train_test_split\n",
        "from sklearn.preprocessing import StandardScaler\n",
        "\n",
        "# Load the dataset\n",
        "data = pd.read_csv(\"/content/drive/MyDrive/Colab Notebooks/train.csv\")\n",
        "\n",
        "# Select numeric columns only and drop rows with missing values\n",
        "numeric_data = data.select_dtypes(include=['int64', 'float64']).dropna()\n",
        "\n",
        "# Define features and target\n",
        "X = numeric_data.drop(\"SalePrice\", axis=1).values\n",
        "y = numeric_data[\"SalePrice\"].values\n",
        "\n",
        "# Train/test split\n",
        "X_train, X_test, y_train, y_test = train_test_split(X, y, test_size=0.2, random_state=42)\n",
        "\n",
        "# Feature scaling\n",
        "scaler = StandardScaler()\n",
        "X_train_scaled = scaler.fit_transform(X_train)\n",
        "X_test_scaled = scaler.transform(X_test)\n"
      ],
      "metadata": {
        "id": "JYU4VgUDChi4"
      },
      "execution_count": 5,
      "outputs": []
    },
    {
      "cell_type": "markdown",
      "source": [
        "b. Fitting Scratch Implementation"
      ],
      "metadata": {
        "id": "oEapNWEzG9n0"
      }
    },
    {
      "cell_type": "code",
      "source": [
        "import numpy as np\n",
        "\n",
        "class ScratchLinearRegression():\n",
        "    \"\"\"\n",
        "    Linear regression implemented from scratch\n",
        "\n",
        "    Parameters\n",
        "    ----------\n",
        "    num_iter : int\n",
        "        Number of iterations\n",
        "    lr : float\n",
        "        Learning rate\n",
        "    no_bias : bool\n",
        "        Whether to exclude bias term\n",
        "    verbose : bool\n",
        "        Whether to print progress\n",
        "\n",
        "    Attributes\n",
        "    ----------\n",
        "    self.coef_ : ndarray, shape(n_features,)\n",
        "        Learned coefficients\n",
        "    self.loss : ndarray, shape(self.iter,)\n",
        "        Training loss history\n",
        "    self.val_loss : ndarray, shape(self.iter,)\n",
        "        Validation loss history\n",
        "    \"\"\"\n",
        "    # Let's fill in linear_hypothesis and update the _init method to initialize the weights correctly.\n",
        "\n",
        "    def __init__(self, num_iter, lr, no_bias=False, verbose=False):\n",
        "        self.num_iter = num_iter\n",
        "        self.lr = lr\n",
        "        self.no_bias = no_bias\n",
        "        self.verbose = verbose\n",
        "\n",
        "        # Initialize attributes\n",
        "        self.coef_ = None\n",
        "        self.loss = np.zeros(num_iter)\n",
        "        self.val_loss = np.zeros(num_iter)\n",
        "\n",
        "    def _linear_hypothesis(self, X):\n",
        "        \"\"\"\n",
        "        Linear regression hypothesis function (hθ(x) = θ.T @ x)\n",
        "\n",
        "        Parameters\n",
        "        ----------\n",
        "        X : ndarray, shape (n_samples, n_features)\n",
        "            Input features\n",
        "\n",
        "        Returns\n",
        "        -------\n",
        "        ndarray, shape (n_samples, 1)\n",
        "            Predicted values\n",
        "        \"\"\"\n",
        "        return X @ self.coef_\n",
        "\n",
        "    def fit(self, X, y, X_val=None, y_val=None):\n",
        "        \"\"\"\n",
        "        Fit linear regression model\n",
        "\n",
        "        Parameters\n",
        "        ----------\n",
        "        X : ndarray, shape (n_samples, n_features)\n",
        "            Training features\n",
        "        y : ndarray, shape (n_samples,)\n",
        "            Training targets\n",
        "        X_val : ndarray, shape (n_samples, n_features), optional\n",
        "            Validation features\n",
        "        y_val : ndarray, shape (n_samples,), optional\n",
        "            Validation targets\n",
        "        \"\"\"\n",
        "        # Add bias term if needed\n",
        "        if not self.no_bias:\n",
        "            X = np.hstack([np.ones((X.shape[0], 1)), X])\n",
        "            if X_val is not None:\n",
        "                X_val = np.hstack([np.ones((X_val.shape[0], 1)), X_val])\n",
        "\n",
        "        # Initialize coefficients\n",
        "        self.coef_ = np.zeros(X.shape[1])\n",
        "\n",
        "        # Gradient descent\n",
        "        for i in range(self.num_iter):\n",
        "            # Calculate predictions and errors\n",
        "            pred = self._linear_hypothesis(X)\n",
        "            error = pred - y\n",
        "\n",
        "            # Update coefficients\n",
        "            gradient = X.T @ error / len(y)\n",
        "            self.coef_ -= self.lr * gradient\n",
        "\n",
        "            # Calculate losses\n",
        "            self.loss[i] = np.mean(error ** 2)\n",
        "            if X_val is not None and y_val is not None:\n",
        "                val_pred = self._linear_hypothesis(X_val)\n",
        "                self.val_loss[i] = np.mean((val_pred - y_val) ** 2)\n",
        "\n",
        "            # Print progress if verbose\n",
        "            if self.verbose and i % 100 == 0:\n",
        "                print(f\"Iteration {i}: Train Loss = {self.loss[i]:.4f}\", end=\"\")\n",
        "                if X_val is not None:\n",
        "                    print(f\", Val Loss = {self.val_loss[i]:.4f}\")\n",
        "                else:\n",
        "                    print()\n",
        "\n",
        "\n",
        "    def predict(self, X):\n",
        "        \"\"\"\n",
        "        Predict using linear regression model\n",
        "\n",
        "        Parameters\n",
        "        ----------\n",
        "        X : ndarray, shape (n_samples, n_features)\n",
        "            Input features\n",
        "\n",
        "        Returns\n",
        "        -------\n",
        "        ndarray, shape (n_samples,)\n",
        "            Predicted values\n",
        "        \"\"\"\n",
        "        if not self.no_bias:\n",
        "            X = np.hstack([np.ones((X.shape[0], 1)), X])\n",
        "        return self._linear_hypothesis(X)"
      ],
      "metadata": {
        "id": "2nh2AfEpGwto"
      },
      "execution_count": 6,
      "outputs": []
    },
    {
      "cell_type": "code",
      "source": [
        "# fitting scratch implementation\n",
        "model_scratch = ScratchLinearRegression(num_iter=1000, lr=0.01, verbose=True)\n",
        "model_scratch.fit(X_train_scaled, y_train, X_val=X_test_scaled, y_val=y_test)\n",
        "\n",
        "# Predictions\n",
        "y_pred_scratch = model_scratch.predict(X_test_scaled)"
      ],
      "metadata": {
        "colab": {
          "base_uri": "https://localhost:8080/"
        },
        "id": "xSFwtCDYFLYu",
        "outputId": "43f3a741-3f7f-4f76-a85c-848290c1a5ab"
      },
      "execution_count": 7,
      "outputs": [
        {
          "output_type": "stream",
          "name": "stdout",
          "text": [
            "Iteration 0: Train Loss = 40220445303.1987, Val Loss = 43883538642.8602\n",
            "Iteration 100: Train Loss = 5908265143.6164, Val Loss = 6419735974.4600\n",
            "Iteration 200: Train Loss = 1937023965.2345, Val Loss = 2349288896.6657\n",
            "Iteration 300: Train Loss = 1385723127.8088, Val Loss = 1742542712.1251\n",
            "Iteration 400: Train Loss = 1300623031.9970, Val Loss = 1634306933.6563\n",
            "Iteration 500: Train Loss = 1282628225.0508, Val Loss = 1607888288.5437\n",
            "Iteration 600: Train Loss = 1276264118.5308, Val Loss = 1599028812.7182\n",
            "Iteration 700: Train Loss = 1272989560.9043, Val Loss = 1595472339.0863\n",
            "Iteration 800: Train Loss = 1271034700.6813, Val Loss = 1593969031.5978\n",
            "Iteration 900: Train Loss = 1269802393.0866, Val Loss = 1593355122.2352\n"
          ]
        }
      ]
    },
    {
      "cell_type": "markdown",
      "source": [
        "c. Fitting Scikit-learn's LinearRegression for Comparison"
      ],
      "metadata": {
        "id": "ZHZ7Gx2cHKWz"
      }
    },
    {
      "cell_type": "code",
      "source": [
        "from sklearn.linear_model import LinearRegression\n",
        "from sklearn.metrics import mean_squared_error\n",
        "\n",
        "model_sklearn = LinearRegression()\n",
        "model_sklearn.fit(X_train_scaled, y_train)\n",
        "y_pred_sklearn = model_sklearn.predict(X_test_scaled)\n"
      ],
      "metadata": {
        "id": "P16SfOUdFP8I"
      },
      "execution_count": 8,
      "outputs": []
    },
    {
      "cell_type": "markdown",
      "source": [
        "d. comparing results"
      ],
      "metadata": {
        "id": "BVkonyoPHotl"
      }
    },
    {
      "cell_type": "code",
      "source": [
        "mse_scratch = mean_squared_error(y_test, y_pred_scratch)\n",
        "mse_sklearn = mean_squared_error(y_test, y_pred_sklearn)\n",
        "\n",
        "print(\"Scratch MSE:\", mse_scratch)\n",
        "print(\"Sklearn MSE:\", mse_sklearn)\n"
      ],
      "metadata": {
        "colab": {
          "base_uri": "https://localhost:8080/"
        },
        "id": "uBMg9MCPHiGf",
        "outputId": "0c3317ba-44d1-4c2d-cb11-919e745a72ec"
      },
      "execution_count": 9,
      "outputs": [
        {
          "output_type": "stream",
          "name": "stdout",
          "text": [
            "Scratch MSE: 1593136517.653105\n",
            "Sklearn MSE: 1591724600.5769076\n"
          ]
        }
      ]
    },
    {
      "cell_type": "markdown",
      "source": [
        "Problem 7 Plotting the learning curve\n",
        "\n",
        "Visualising through loss-curve"
      ],
      "metadata": {
        "id": "vgRLPCj-H0p1"
      }
    },
    {
      "cell_type": "code",
      "source": [
        "import matplotlib.pyplot as plt\n",
        "\n",
        "plt.plot(model_scratch.loss, label='Train Loss')\n",
        "plt.plot(model_scratch.val_loss, label='Validation Loss')\n",
        "plt.xlabel(\"Iter\")\n",
        "plt.ylabel(\"Loss\")\n",
        "plt.legend()\n",
        "plt.title(\"Loss Curve\")\n",
        "plt.show()\n"
      ],
      "metadata": {
        "colab": {
          "base_uri": "https://localhost:8080/",
          "height": 472
        },
        "id": "ykffThORH0XM",
        "outputId": "76f23ec9-f6a4-4918-8fbb-7e137a69d423"
      },
      "execution_count": 10,
      "outputs": [
        {
          "output_type": "display_data",
          "data": {
            "text/plain": [
              "<Figure size 640x480 with 1 Axes>"
            ],
            "image/png": "[encoded data removed]"
          },
          "metadata": {}
        }
      ]
    },
    {
      "cell_type": "markdown",
      "source": [
        "Problem 8: Removal of Bias Term — Analysis & Explanation"
      ],
      "metadata": {
        "id": "qs7D2CoCIto0"
      }
    },
    {
      "cell_type": "code",
      "source": [
        "# since the class is already designed to include or exclude the bias term based on the no_bias flag. We just need to set no_bias=True when creating our model.\n",
        "# WITHOUT BIAS\n",
        "model_no_bias = ScratchLinearRegression(num_iter=1000, lr=0.01, no_bias=True, verbose=False)\n",
        "model_no_bias.fit(X_train_scaled, y_train, X_val=X_test_scaled, y_val=y_test)"
      ],
      "metadata": {
        "id": "TIZRh42jHsHC"
      },
      "execution_count": 11,
      "outputs": []
    },
    {
      "cell_type": "markdown",
      "source": [
        "Step 3: Comparing the Results\n",
        "\n",
        "We can visualize and print the difference:"
      ],
      "metadata": {
        "id": "6dzNPYBkxLKD"
      }
    },
    {
      "cell_type": "code",
      "source": [
        "import matplotlib.pyplot as plt\n",
        "\n",
        "# Create an instance of the model with bias term\n",
        "model_with_bias = ScratchLinearRegression(num_iter=1000, lr=0.01, no_bias=False, verbose=False)  # no_bias=False by default, but explicitly set here for clarity\n",
        "model_with_bias.fit(X_train_scaled, y_train, X_val=X_test_scaled, y_val=y_test)\n",
        "\n",
        "# Now you can plot and compare\n",
        "plt.plot(model_with_bias.loss, label='With Bias')\n",
        "plt.plot(model_no_bias.loss, label='No Bias')\n",
        "plt.xlabel('Iteration')\n",
        "plt.ylabel('Training Loss')\n",
        "plt.title('Loss Comparison')\n",
        "plt.legend()\n",
        "plt.show()\n",
        "\n",
        "print(f\"Final Train Loss With Bias: {model_with_bias.loss[-1]:.4f}\")\n",
        "print(f\"Final Train Loss No Bias: {model_no_bias.loss[-1]:.4f}\")"
      ],
      "metadata": {
        "colab": {
          "base_uri": "https://localhost:8080/",
          "height": 507
        },
        "id": "G2fYaeatwowW",
        "outputId": "209361a8-f395-49e0-a486-5b1ea055cbed"
      },
      "execution_count": 13,
      "outputs": [
        {
          "output_type": "display_data",
          "data": {
            "text/plain": [
              "<Figure size 640x480 with 1 Axes>"
            ],
            "image/png": "[encoded data removed]"
          },
          "metadata": {}
        },
        {
          "output_type": "stream",
          "name": "stdout",
          "text": [
            "Final Train Loss With Bias: 1269008366.9420\n",
            "Final Train Loss No Bias: 34882398569.8333\n"
          ]
        }
      ]
    },
    {
      "cell_type": "markdown",
      "source": [
        "###Summary: What Does Removing Bias Do?\n",
        "\n",
        "The bias term allows the model to fit the data even when the output is not centered around zero.\n",
        "\n",
        "Without bias, the model forces the line to pass through the origin (0,0), which may not be optimal for most real-world datasets.\n",
        "\n",
        "In most cases, loss without bias will be higher, showing reduced performance."
      ],
      "metadata": {
        "id": "8GURNtB6x1AQ"
      }
    },
    {
      "cell_type": "markdown",
      "source": [
        "###【problem 9】(Advance task) Multidimensional feature quantity\n",
        "\n",
        "- To verify how the learning result changes when using squared or cubed features, we're essentially testing polynomial feature expansion. This allows linear regression to model nonlinear relationships."
      ],
      "metadata": {
        "id": "MP2pd7asyxDJ"
      }
    },
    {
      "cell_type": "code",
      "source": [
        "# Adding Square or Cube of Features\n",
        "# 1. manual approach\n",
        "\n",
        "# Square the features\n",
        "X_train_squared = X_train_scaled ** 2\n",
        "X_test_squared = X_test_scaled ** 2\n",
        "\n",
        "# Concatenate original and squared features\n",
        "X_train_poly2 = np.hstack((X_train_scaled, X_train_squared))\n",
        "X_test_poly2 = np.hstack((X_test_scaled, X_test_squared))\n",
        "\n",
        "# For cube\n",
        "X_train_cubed = X_train_scaled ** 3\n",
        "X_test_cubed = X_test_scaled ** 3\n",
        "\n",
        "X_train_poly3 = np.hstack((X_train_scaled, X_train_squared, X_train_cubed))\n",
        "X_test_poly3 = np.hstack((X_test_scaled, X_test_squared, X_test_cubed))\n"
      ],
      "metadata": {
        "id": "UhQWG0hfx4KG"
      },
      "execution_count": 14,
      "outputs": []
    },
    {
      "cell_type": "code",
      "source": [
        "# 2. Fitting Models With Expanded Features\n",
        "# Original\n",
        "\n",
        "model_orig = ScratchLinearRegression(num_iter=1000, lr=0.01)\n",
        "model_orig.fit(X_train_scaled, y_train, X_val=X_test_scaled, y_val=y_test)\n",
        "\n",
        "# With squared features\n",
        "model_poly2 = ScratchLinearRegression(num_iter=1000, lr=0.01)\n",
        "model_poly2.fit(X_train_poly2, y_train, X_val=X_test_poly2, y_val=y_test)\n",
        "\n",
        "# With squared + cubed features\n",
        "model_poly3 = ScratchLinearRegression(num_iter=1000, lr=0.01)\n",
        "model_poly3.fit(X_train_poly3, y_train, X_val=X_test_poly3, y_val=y_test)\n"
      ],
      "metadata": {
        "id": "3FMIY9EVzNMb"
      },
      "execution_count": null,
      "outputs": []
    },
    {
      "cell_type": "code",
      "source": [
        "import matplotlib.pyplot as plt\n",
        "\n",
        "plt.plot(model_orig.loss, label='Original Features')\n",
        "plt.plot(model_poly2.loss, label='+ Squared Features')\n",
        "plt.plot(model_poly3.loss, label='+ Squared & Cubed Features')\n",
        "plt.xlabel(\"Iteration\")\n",
        "plt.ylabel(\"Training Loss\")\n",
        "plt.title(\"Loss Comparison for Polynomial Features\")\n",
        "plt.legend()\n",
        "plt.show()\n",
        "\n",
        "print(f\"Final Train Loss (Original): {model_orig.loss[-1]:.4f}\")\n",
        "print(f\"Final Train Loss (+Square): {model_poly2.loss[-1]:.4f}\")\n",
        "print(f\"Final Train Loss (+Square+Cube): {model_poly3.loss[-1]:.4f}\")\n"
      ],
      "metadata": {
        "colab": {
          "base_uri": "https://localhost:8080/",
          "height": 524
        },
        "id": "AGfNebuEzZBZ",
        "outputId": "8d2a4bd6-3421-435f-ddb4-b8369f3a4ad2"
      },
      "execution_count": 25,
      "outputs": [
        {
          "output_type": "display_data",
          "data": {
            "text/plain": [
              "<Figure size 640x480 with 1 Axes>"
            ],
            "image/png": "[encoded data removed]"
          },
          "metadata": {}
        },
        {
          "output_type": "stream",
          "name": "stdout",
          "text": [
            "Final Train Loss (Original): 1269008366.9420\n",
            "Final Train Loss (+Square): nan\n",
            "Final Train Loss (+Square+Cube): nan\n"
          ]
        }
      ]
    },
    {
      "cell_type": "markdown",
      "source": [
        "###Expected Result\n",
        "\n",
        "- Adding squared features can capture quadratic patterns in the data.\n",
        "\n",
        "- Adding cubed features allows modeling more complex nonlinear trends.\n",
        "\n",
        "- However, overfitting may occur if the model becomes too complex without regularization."
      ],
      "metadata": {
        "id": "1QITHEVfzrdp"
      }
    },
    {
      "cell_type": "markdown",
      "source": [
        "###【problem 10】(Advance task) Derivation of update formula\n",
        "\n",
        "To derive the update formula for the steepest descent method (gradient descent) in linear regression, we start from the loss function and apply calculus to find its gradient with respect to the model parameters."
      ],
      "metadata": {
        "id": "vpHiiDGe1z0L"
      }
    },
    {
      "cell_type": "markdown",
      "source": [
        "Let's approach it step-by-step:\n",
        "\n",
        "---\n",
        "\n",
        "### 1. **Loss Function (Objective Function)**\n",
        "\n",
        "The Mean Squared Error (MSE) loss function is given by:\n",
        "\n",
        "$$\n",
        "J(\\theta) = \\frac{1}{2m} \\sum_{i=1}^{m} \\left(h_\\theta(x^{(i)}) - y^{(i)}\\right)^2\n",
        "$$\n",
        "\n",
        "Where:\n",
        "\n",
        "* $m$ is the number of training examples\n",
        "* $h_\\theta(x^{(i)}) = \\theta^T x^{(i)}$ is the prediction\n",
        "* $y^{(i)}$ is the true value\n",
        "\n",
        "---\n",
        "\n",
        "###  2. **Gradient Descent Update Rule**\n",
        "\n",
        "The general rule of gradient descent is:\n",
        "\n",
        "$$\n",
        "\\theta_j := \\theta_j - \\alpha \\frac{\\partial}{\\partial \\theta_j} J(\\theta)\n",
        "$$\n",
        "\n",
        "Where:\n",
        "\n",
        "* $\\alpha$ is the learning rate\n",
        "* $\\frac{\\partial}{\\partial \\theta_j} J(\\theta)$ is the partial derivative (gradient) of the loss with respect to parameter $\\theta_j$\n",
        "\n",
        "---\n",
        "\n",
        "###  3. **Compute the Partial Derivative**\n",
        "\n",
        "Let’s compute the derivative of $J(\\theta)$ with respect to $\\theta_j$:\n",
        "\n",
        "$$\n",
        "\\frac{\\partial}{\\partial \\theta_j} J(\\theta) = \\frac{\\partial}{\\partial \\theta_j} \\left[ \\frac{1}{2m} \\sum_{i=1}^{m} \\left(\\theta^T x^{(i)} - y^{(i)}\\right)^2 \\right]\n",
        "$$\n",
        "\n",
        "Using the chain rule:\n",
        "\n",
        "$$\n",
        "= \\frac{1}{2m} \\sum_{i=1}^{m} 2 \\cdot \\left(\\theta^T x^{(i)} - y^{(i)}\\right) \\cdot \\frac{\\partial}{\\partial \\theta_j} \\left(\\theta^T x^{(i)} - y^{(i)}\\right)\n",
        "$$\n",
        "\n",
        "Since $\\frac{\\partial}{\\partial \\theta_j} (\\theta^T x^{(i)}) = x_j^{(i)}$, we get:\n",
        "\n",
        "$$\n",
        "\\frac{\\partial}{\\partial \\theta_j} J(\\theta) = \\frac{1}{m} \\sum_{i=1}^{m} \\left(\\theta^T x^{(i)} - y^{(i)}\\right) x_j^{(i)}\n",
        "$$\n",
        "\n",
        "---\n",
        "\n",
        "### 4. **Final Update Formula**\n",
        "\n",
        "Substitute the gradient into the update rule:\n",
        "\n",
        "$$\n",
        "\\theta_j := \\theta_j - \\alpha \\cdot \\frac{1}{m} \\sum_{i=1}^{m} \\left(\\theta^T x^{(i)} - y^{(i)}\\right) x_j^{(i)}\n",
        "$$\n",
        "\n",
        "This is the steepest descent (gradient descent) update formula used to minimize the cost function in linear regression.\n",
        "\n",
        "---\n",
        "\n",
        "The **vectorized form** of the gradient descent update rule for linear regression.\n",
        "\n",
        "---\n",
        "\n",
        "### **Recap: Loss Function (MSE)**\n",
        "\n",
        "$$\n",
        "J(\\theta) = \\frac{1}{2m} \\| X\\theta - y \\|^2\n",
        "$$\n",
        "\n",
        "Where:\n",
        "\n",
        "* $X \\in \\mathbb{R}^{m \\times n}$: matrix of input features (each row is an example)\n",
        "* $y \\in \\mathbb{R}^{m \\times 1}$: vector of true outputs\n",
        "* $\\theta \\in \\mathbb{R}^{n \\times 1}$: vector of parameters (weights)\n",
        "* $m$: number of training samples\n",
        "\n",
        "---\n",
        "\n",
        "### **Gradient (Vectorized)**\n",
        "\n",
        "The gradient of the cost function with respect to $\\theta$ is:\n",
        "\n",
        "$$\n",
        "\\nabla_\\theta J(\\theta) = \\frac{1}{m} X^T (X\\theta - y)\n",
        "$$\n",
        "\n",
        "This expression computes the gradient for all $\\theta_j$'s at once.\n",
        "\n",
        "---\n",
        "\n",
        "###  **Gradient Descent Update Rule (Vectorized)**\n",
        "\n",
        "The update rule becomes:\n",
        "\n",
        "$$\n",
        "\\theta := \\theta - \\alpha \\cdot \\frac{1}{m} X^T (X\\theta - y)\n",
        "$$\n",
        "\n",
        "This is both computationally efficient and easy to implement in NumPy or similar libraries.\n",
        "\n",
        "---\n",
        "\n",
        "This implementation avoids any explicit for-loops over samples and works efficiently even for large datasets."
      ],
      "metadata": {
        "id": "lizIIFCP3Jet"
      }
    },
    {
      "cell_type": "code",
      "source": [
        "### **Python (NumPy) Implementation Example**\n",
        "def gradient_descent(X, y, theta, alpha, epochs):\n",
        "    m = len(y)\n",
        "    for _ in range(epochs):\n",
        "        predictions = X @ theta\n",
        "        error = predictions - y\n",
        "        gradient = (1/m) * X.T @ error\n",
        "        theta = theta - alpha * gradient\n",
        "    return theta"
      ],
      "metadata": {
        "id": "myldNlMCzkaJ"
      },
      "execution_count": 26,
      "outputs": []
    },
    {
      "cell_type": "markdown",
      "source": [
        "###【problem 11】(Advance task) Problem of local optimum solution\n",
        "\n",
        "**Gradient descent** can get stuck in **local minima** in many machine learning models. However, in **linear regression**, it always converges to the **global minimum**. Let's find out why using **math and a graph**.\n",
        "\n",
        "---\n",
        "\n",
        "###  Why Gradient Descent Finds the Global Minimum in Linear Regression\n",
        "\n",
        "#### 1. **Convexity of the Cost Function**\n",
        "\n",
        "The cost function for linear regression is:\n",
        "\n",
        "$$\n",
        "J(\\theta) = \\frac{1}{2m} \\sum_{i=1}^{m} \\left( h_\\theta(x^{(i)}) - y^{(i)} \\right)^2\n",
        "\\quad \\text{where } h_\\theta(x^{(i)}) = \\theta^T x^{(i)}\n",
        "$$\n",
        "\n",
        "This is a **quadratic function** in $\\theta$, and quadratic functions are **convex**.\n",
        "\n",
        "#### 2. **Definition of Convex Function**\n",
        "\n",
        "A function $f(\\theta)$ is convex if:\n",
        "\n",
        "$$\n",
        "\\nabla^2 J(\\theta) \\succeq 0\n",
        "$$\n",
        "\n",
        "In other words, its **Hessian matrix** is positive semi-definite. For linear regression, the Hessian is:\n",
        "\n",
        "$$\n",
        "\\nabla^2 J(\\theta) = \\frac{1}{m} X^T X\n",
        "$$\n",
        "\n",
        "Since $X^T X$ is positive semi-definite (or positive definite if $X$ is full rank), the function has **one global minimum and no local minima**.\n",
        "\n",
        "---\n",
        "\n",
        "###  Graphical Intuition\n",
        "\n",
        "Imagine a **bowl-shaped surface** — the loss landscape of linear regression looks like this. No matter where you start, gradient descent will go downhill and converge to the **unique lowest point**, the global minimum:\n",
        "\n",
        "```\n",
        "Cost\n",
        " ^\n",
        " |                      ● (global minimum)\n",
        " |                   /\n",
        " |               ●\n",
        " |            /\n",
        " |       ●\n",
        " |  ●\n",
        " +-------------------------> θ\n",
        "```\n",
        "\n",
        "---\n",
        "\n",
        "###  Conclusion\n",
        "\n",
        "* The cost function in linear regression is **convex**.\n",
        "* Convex functions have **no local minima**, only one **global minimum**.\n",
        "* Therefore, **gradient descent** is guaranteed to converge to the **global optimum**, assuming a proper learning rate.\n",
        "\n",
        "Would you like me to generate a 3D plot of this convex loss surface?\n"
      ],
      "metadata": {
        "id": "Iuw6JTSI2js7"
      }
    },
    {
      "cell_type": "code",
      "source": [],
      "metadata": {
        "id": "hx0gddoX2lXd"
      },
      "execution_count": null,
      "outputs": []
    }
  ]
}